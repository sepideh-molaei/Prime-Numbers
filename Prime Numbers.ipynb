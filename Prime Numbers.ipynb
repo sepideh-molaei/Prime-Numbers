{
 "cells": [
  {
   "cell_type": "code",
   "execution_count": null,
   "id": "09b7667a",
   "metadata": {},
   "outputs": [],
   "source": [
    "remain = []\n",
    "def prime (num):\n",
    "  for i in range(2,num):\n",
    "    remain.append(num % i) \n",
    "  if 0 in remain:\n",
    "     print(\"Not Prime\")\n",
    "  else:\n",
    "     print(\"Prime\")  \n",
    "\n",
    "num = int (input(\"Please add a number: \"))\n",
    "prime(num)"
   ]
  }
 ],
 "metadata": {
  "kernelspec": {
   "display_name": "Python 3 (ipykernel)",
   "language": "python",
   "name": "python3"
  },
  "language_info": {
   "codemirror_mode": {
    "name": "ipython",
    "version": 3
   },
   "file_extension": ".py",
   "mimetype": "text/x-python",
   "name": "python",
   "nbconvert_exporter": "python",
   "pygments_lexer": "ipython3",
   "version": "3.10.6"
  }
 },
 "nbformat": 4,
 "nbformat_minor": 5
}
